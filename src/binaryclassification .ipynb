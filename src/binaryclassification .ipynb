{
 "cells": [
  {
   "cell_type": "markdown",
   "metadata": {},
   "source": [
    "# STUDENT: LORD CHARITE IGIRIMBABAZI"
   ]
  },
  {
   "cell_type": "code",
   "execution_count": 1,
   "metadata": {},
   "outputs": [],
   "source": [
    "import numpy as np\n",
    "import pandas as pd\n",
    "import matplotlib.pyplot as plt\n",
    "import seaborn as sns\n",
    "from sklearn.linear_model import Perceptron, LogisticRegression\n",
    "from sklearn.ensemble import RandomForestClassifier\n",
    "from sklearn.calibration import CalibratedClassifierCV\n",
    "from sklearn.metrics import accuracy_score, f1_score, roc_auc_score, recall_score, precision_score\n",
    "from sklearn.feature_extraction.text import TfidfVectorizer\n",
    "from sklearn.model_selection import train_test_split, KFold\n",
    "from sklearn.preprocessing import OneHotEncoder\n",
    "from sklearn.compose import ColumnTransformer\n",
    "from sklearn.pipeline import Pipeline\n",
    "from sklearn.svm import SVC"
   ]
  },
  {
   "cell_type": "markdown",
   "metadata": {},
   "source": [
    "# Part 1"
   ]
  },
  {
   "cell_type": "code",
   "execution_count": 2,
   "metadata": {},
   "outputs": [],
   "source": [
    "train_data = pd.read_csv('hw4-train-new.csv')\n",
    "test_data = pd.read_csv('hw4-test-new.csv')\n",
    "\n",
    "train_combined_text = (\n",
    "    train_data['reviewText'].fillna('') + ' ' +\n",
    "    train_data['summary'].fillna('') + ' ' +\n",
    "    train_data['verified'].astype(str) + ' ' +\n",
    "    train_data['vote'].astype(str) + ' ' +\n",
    "    train_data['category'].fillna('')\n",
    ")\n",
    "\n",
    "test_combined_text = (\n",
    "    test_data['reviewText'].fillna('') + ' ' +\n",
    "    test_data['summary'].fillna('') + ' ' +\n",
    "    test_data['vote'].astype(str) + ' ' +\n",
    "    test_data['verified'].astype(str) + ' ' +\n",
    "    test_data['category'].fillna('')\n",
    ")\n",
    "\n",
    "# TF-IDF Vectorization \n",
    "tfidf_vectorizer = TfidfVectorizer()\n",
    "x_train_final = tfidf_vectorizer.fit_transform(train_combined_text)\n",
    "x_test_final = tfidf_vectorizer.transform(test_combined_text)\n",
    "\n",
    "# target variable 'label'\n",
    "y_train = train_data['label']"
   ]
  },
  {
   "cell_type": "code",
   "execution_count": 3,
   "metadata": {},
   "outputs": [],
   "source": [
    "def evaluate(y_true, y_pred, y_proba):\n",
    "    accuracy = accuracy_score(y_true, y_pred)\n",
    "    f1 = f1_score(y_true, y_pred, average='macro')\n",
    "    recall = recall_score(y_true, y_pred, average='macro')\n",
    "    \n",
    "    if y_proba.shape[1] == 2:\n",
    "        y_proba = y_proba[:, 1]\n",
    "    \n",
    "    roc_auc = roc_auc_score(y_true, y_proba, multi_class='ovr')\n",
    "\n",
    "\n",
    "    print(\"Evaluation Metrics: \\n\")\n",
    "    print(f\"- Accuracy Score: {accuracy * 100:.2f} %\")\n",
    "    print(f\"- F1 Macro Score: {f1 * 100:.2f} %\")\n",
    "    print(f\"- Recall Macro Score: {recall * 100:.2f} %\")\n",
    "    print(f\"- ROC AUC Score: {roc_auc * 100:.2f} %\")"
   ]
  },
  {
   "cell_type": "code",
   "execution_count": 4,
   "metadata": {},
   "outputs": [
    {
     "name": "stdout",
     "output_type": "stream",
     "text": [
      "1) Logistic Regression\n",
      "Evaluation Metrics: \n",
      "\n",
      "- Accuracy Score: 85.78 %\n",
      "- F1 Macro Score: 84.96 %\n",
      "- Recall Macro Score: 84.60 %\n",
      "- ROC AUC Score: 92.79 %\n"
     ]
    }
   ],
   "source": [
    "def logistic_regression_classifier(x_train, y_train, x_test):\n",
    "\n",
    "    x_train_split, x_val, y_train_split, y_val = train_test_split(x_train, y_train, test_size=0.2, random_state=42)\n",
    "\n",
    "    logistic = LogisticRegression(max_iter=10000, class_weight='balanced')\n",
    "    calibrated_logistic = CalibratedClassifierCV(logistic, cv=5)\n",
    " \n",
    "    calibrated_logistic.fit(x_train_split, y_train_split)\n",
    "\n",
    "    test_predictions = calibrated_logistic.predict(x_test)\n",
    "    #test_probabilities = calibrated_logistic.predict_proba(x_test)\n",
    "\n",
    "    val_predictions = calibrated_logistic.predict(x_val)\n",
    "    val_probabilities = calibrated_logistic.predict_proba(x_val)\n",
    "    \n",
    "    return y_val, val_predictions, val_probabilities, test_predictions\n",
    "\n",
    "y_true_logistic, logistic_predictions, logistic_probabilities, logistic_test_predictions = (\n",
    "    logistic_regression_classifier(x_train_final, y_train, x_test_final)\n",
    ")\n",
    "print(\"1) Logistic Regression\")\n",
    "evaluate(y_true_logistic, logistic_predictions, logistic_probabilities )"
   ]
  },
  {
   "cell_type": "code",
   "execution_count": 5,
   "metadata": {},
   "outputs": [
    {
     "name": "stdout",
     "output_type": "stream",
     "text": [
      "2) Perceptron\n",
      "Evaluation Metrics: \n",
      "\n",
      "- Accuracy Score: 81.70 %\n",
      "- F1 Macro Score: 80.42 %\n",
      "- Recall Macro Score: 79.82 %\n",
      "- ROC AUC Score: 89.95 %\n"
     ]
    }
   ],
   "source": [
    "def perceptron_classifier(x_train, y_train, x_test):\n",
    "    x_train_split, x_val, y_train_split, y_val = train_test_split(x_train, y_train, test_size=0.2, random_state=42)\n",
    "    \n",
    "    perceptron = Perceptron(max_iter=1000)\n",
    "    calibrated_perceptron = CalibratedClassifierCV(perceptron, cv=5)\n",
    "   \n",
    "    calibrated_perceptron.fit(x_train_split, y_train_split)\n",
    "    \n",
    "    val_predictions = calibrated_perceptron.predict(x_val)\n",
    "    val_probabilities = calibrated_perceptron.predict_proba(x_val)\n",
    "    \n",
    "    return y_val, val_predictions, val_probabilities\n",
    "\n",
    "y_true_perceptron, perceptron_predictions, perceptron_probabilities = (\n",
    "    perceptron_classifier(x_train_final, y_train, x_test_final)\n",
    ")\n",
    "\n",
    "print(\"2) Perceptron\")\n",
    "evaluate(y_true_perceptron, perceptron_predictions, perceptron_probabilities)"
   ]
  },
  {
   "cell_type": "code",
   "execution_count": 6,
   "metadata": {},
   "outputs": [
    {
     "name": "stdout",
     "output_type": "stream",
     "text": [
      "3) Random Forest\n",
      "Evaluation Metrics: \n",
      "\n",
      "- Accuracy Score: 84.62 %\n",
      "- F1 Macro Score: 83.39 %\n",
      "- Recall Macro Score: 82.52 %\n",
      "- ROC AUC Score: 92.20 %\n"
     ]
    }
   ],
   "source": [
    "def rf_classifier(x_train, y_train, x_test):\n",
    "    x_train_split, x_val, y_train_split, y_val = train_test_split(x_train, y_train, test_size=0.2, random_state=42)\n",
    "\n",
    "    rf = RandomForestClassifier(random_state=42, class_weight='balanced', n_jobs=-1)\n",
    "\n",
    "    calibrated_rf = CalibratedClassifierCV(rf, cv=5, n_jobs=-1)\n",
    "    calibrated_rf.fit(x_train_split, y_train_split)\n",
    "\n",
    "    val_predictions = calibrated_rf.predict(x_val)\n",
    "    val_probabilities = calibrated_rf.predict_proba(x_val)\n",
    "\n",
    "    return y_val, val_predictions, val_probabilities\n",
    "\n",
    "\n",
    "y_true_rf, rf_predictions, rf_probabilities = rf_classifier(x_train_final, y_train, x_test_final)\n",
    "\n",
    "print(\"3) Random Forest\")\n",
    "evaluate(y_true_rf, rf_predictions, rf_probabilities)"
   ]
  },
  {
   "cell_type": "code",
   "execution_count": 7,
   "metadata": {},
   "outputs": [],
   "source": [
    "\n",
    "df = pd.DataFrame({'id': test_data['id'], 'predictions': logistic_test_predictions})\n",
    "\n",
    "df.to_csv('test_predictions.csv', index=False)"
   ]
  }
 ],
 "metadata": {
  "kernelspec": {
   "display_name": ".venv",
   "language": "python",
   "name": "python3"
  },
  "language_info": {
   "codemirror_mode": {
    "name": "ipython",
    "version": 3
   },
   "file_extension": ".py",
   "mimetype": "text/x-python",
   "name": "python",
   "nbconvert_exporter": "python",
   "pygments_lexer": "ipython3",
   "version": "3.9.6"
  }
 },
 "nbformat": 4,
 "nbformat_minor": 2
}
